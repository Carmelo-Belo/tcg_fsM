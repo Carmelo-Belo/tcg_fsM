{
 "cells": [
  {
   "cell_type": "code",
   "execution_count": 1,
   "metadata": {},
   "outputs": [],
   "source": [
    "path = './Data/Paper/'\n",
    "\n",
    "target_name = 'target.csv'\n",
    "predictors_name = 'predictors_dataset.csv'\n",
    "\n",
    "# Initial and final year of the output dataset\n",
    "\n",
    "first_year = 1951         \n",
    "last_year = 2022\n",
    "\n",
    "time_lag = 0                 # Set the first time lag considered for each predictor respect to the target\n",
    "sequence_length = 7         # Set the sequence length for each predictor  \n",
    "\n",
    "file_name = 'lagged_dataset'     # Name of the output file"
   ]
  },
  {
   "cell_type": "code",
   "execution_count": 2,
   "metadata": {},
   "outputs": [
    {
     "name": "stderr",
     "output_type": "stream",
     "text": [
      "c:\\Users\\cesar.pelaez\\OneDrive - Universidad de Alcala\\Documentos\\GitHub\\spatiotemporal_FS_HW\\lagged_dataset.py:29: PerformanceWarning: DataFrame is highly fragmented.  This is usually the result of calling `frame.insert` many times, which has poor performance.  Consider joining all columns at once using pd.concat(axis=1) instead.  To get a de-fragmented frame, use `newframe = frame.copy()`\n",
      "  lagged_dataset[str(col)+'_lag'+str(time_lags[i]+j)] = predictors[col].shift(time_lags[i]+j)\n"
     ]
    }
   ],
   "source": [
    "from lagged_dataset import lagged_dataset\n",
    "\n",
    "lagged_dataset = lagged_dataset(path,target_name,predictors_name,first_year,last_year,time_lag,sequence_length,file_name)"
   ]
  },
  {
   "cell_type": "code",
   "execution_count": 4,
   "metadata": {},
   "outputs": [],
   "source": [
    "lagged_dataset"
   ]
  }
 ],
 "metadata": {
  "kernelspec": {
   "display_name": "base",
   "language": "python",
   "name": "python3"
  },
  "language_info": {
   "codemirror_mode": {
    "name": "ipython",
    "version": 3
   },
   "file_extension": ".py",
   "mimetype": "text/x-python",
   "name": "python",
   "nbconvert_exporter": "python",
   "pygments_lexer": "ipython3",
   "version": "3.9.7"
  }
 },
 "nbformat": 4,
 "nbformat_minor": 2
}
