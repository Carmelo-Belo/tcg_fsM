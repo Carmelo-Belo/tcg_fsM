{
 "cells": [
  {
   "cell_type": "code",
   "execution_count": 2,
   "metadata": {},
   "outputs": [],
   "source": [
    "import os\n",
    "from build_dataset import build_dataset"
   ]
  },
  {
   "cell_type": "code",
   "execution_count": 3,
   "metadata": {},
   "outputs": [],
   "source": [
    "project_dir = '/Users/huripari/Documents/PhD/TCs_Genesis'\n",
    "\n",
    "# Variables and directories to consider to build the dataset for feature selection\n",
    "cluster_variables = ['msl', 'abs_vo850', 'ssta20', 'vws850-200']\n",
    "cluster_path = os.path.join(project_dir, 'FS_TCG', 'data', f'12clusters')\n",
    "\n",
    "climate_indexes = ['EA-WR', 'ENSO3.4', 'EP-NP', 'NAO', 'PDO', 'PNA', 'SOI', 'TNA', 'TSA', 'WP']\n",
    "indexes_path = CI_dir = os.path.join(project_dir, 'data', 'CI')\n",
    "\n",
    "# Years considered for the dataset\n",
    "first_year = 1980\n",
    "last_year = 2021\n",
    "\n",
    "# Folder to save the dataset\n",
    "save_path = os.path.join(project_dir, 'FS_TCG', 'data')"
   ]
  },
  {
   "cell_type": "code",
   "execution_count": 5,
   "metadata": {},
   "outputs": [
    {
     "name": "stdout",
     "output_type": "stream",
     "text": [
      "Warning: Values above the average+7*std in abs_vo850GLB_cluster1\n",
      "Warning: Values above the average+7*std in abs_vo850GLB_cluster4\n",
      "Warning: Values above the average+7*std in abs_vo850GLB_cluster6\n",
      "Warning: Values above the average+7*std in abs_vo850GLB_cluster9\n",
      "Warning: Values above the average+7*std in abs_vo850GLB_cluster12\n",
      "Warning: Values above the average+7*std in ssta20GLB_cluster1\n",
      "Warning: Values above the average+7*std in ssta20GLB_cluster3\n",
      "Warning: Values above the average+7*std in ssta20GLB_cluster7\n",
      "Warning: Values above the average+7*std in ssta20GLB_cluster9\n",
      "Warning: Values above the average+7*std in ssta20GLB_cluster12\n",
      "Consecutive values repeated found at ENSO3.4\n",
      "DatetimeIndex(['1981-03-01', '1988-07-01', '1990-05-01', '1990-09-01',\n",
      "               '1996-02-01', '1996-07-01', '1998-11-01', '1999-01-01',\n",
      "               '2013-04-01', '2016-09-01', '2018-01-01', '2018-11-01',\n",
      "               '2019-12-01', '2021-02-01', '2021-11-01'],\n",
      "              dtype='datetime64[ns]', freq=None)\n",
      "Consecutive values repeated found at EP-NP\n",
      "DatetimeIndex(['1982-09-01', '1983-02-01', '2008-07-01'], dtype='datetime64[ns]', freq=None)\n",
      "Consecutive values repeated found at NAO\n",
      "DatetimeIndex(['2001-08-01'], dtype='datetime64[ns]', freq=None)\n",
      "Consecutive values repeated found at PDO\n",
      "DatetimeIndex(['1986-09-01', '1986-12-01', '1990-06-01', '1992-11-01',\n",
      "               '2001-10-01', '2018-05-01'],\n",
      "              dtype='datetime64[ns]', freq=None)\n",
      "Consecutive values repeated found at PNA\n",
      "DatetimeIndex(['1980-07-01', '2008-09-01', '2010-09-01'], dtype='datetime64[ns]', freq=None)\n",
      "Consecutive values repeated found at SOI\n",
      "DatetimeIndex(['1980-06-01', '1982-09-01', '1987-03-01', '1992-07-01',\n",
      "               '1996-10-01', '1997-09-01', '1997-10-01', '1999-06-01',\n",
      "               '2000-07-01', '2007-05-01', '2010-08-01', '2014-09-01',\n",
      "               '2017-11-01', '2019-06-01', '2021-04-01'],\n",
      "              dtype='datetime64[ns]', freq=None)\n",
      "Consecutive values repeated found at TNA\n",
      "DatetimeIndex(['1982-03-01', '1988-12-01', '1993-02-01', '1998-05-01',\n",
      "               '2007-11-01', '2008-08-01', '2017-07-01', '2020-01-01'],\n",
      "              dtype='datetime64[ns]', freq=None)\n",
      "Consecutive values repeated found at TSA\n",
      "DatetimeIndex(['1983-06-01', '1987-01-01', '1991-10-01', '1996-11-01',\n",
      "               '1998-05-01', '2003-09-01', '2012-11-01', '2014-01-01',\n",
      "               '2014-03-01', '2018-05-01', '2019-05-01', '2019-12-01'],\n",
      "              dtype='datetime64[ns]', freq=None)\n",
      "Consecutive values repeated found at WP\n",
      "DatetimeIndex(['2017-11-01'], dtype='datetime64[ns]', freq=None)\n"
     ]
    }
   ],
   "source": [
    "dataset = build_dataset(cluster_variables, climate_indexes, cluster_path, indexes_path, first_year, last_year, save_path, month_col=False)"
   ]
  },
  {
   "cell_type": "code",
   "execution_count": null,
   "metadata": {},
   "outputs": [],
   "source": []
  }
 ],
 "metadata": {
  "kernelspec": {
   "display_name": "base",
   "language": "python",
   "name": "python3"
  },
  "language_info": {
   "codemirror_mode": {
    "name": "ipython",
    "version": 3
   },
   "file_extension": ".py",
   "mimetype": "text/x-python",
   "name": "python",
   "nbconvert_exporter": "python",
   "pygments_lexer": "ipython3",
   "version": "3.11.8"
  }
 },
 "nbformat": 4,
 "nbformat_minor": 2
}
