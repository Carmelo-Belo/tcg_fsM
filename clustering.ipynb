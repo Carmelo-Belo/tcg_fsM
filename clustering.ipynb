{
 "cells": [
  {
   "cell_type": "markdown",
   "metadata": {},
   "source": [
    "# Clustering configuration\n",
    "\n"
   ]
  },
  {
   "cell_type": "code",
   "execution_count": 6,
   "metadata": {},
   "outputs": [],
   "source": [
    "from clustering import perform_clustering\n",
    "\n",
    "cluster_output = 'averages'      # 'centroids' or 'averages'\t\n",
    "\n",
    "path_predictors = './Data/Resolution_0_5/'\n",
    "\n",
    "path_output = './Data/Test/'\n",
    "\n",
    "resolution = 0.5\n",
    "\n",
    "first_clima = 1980\n",
    "\n",
    "last_clima = 2010  \n",
    "\n",
    "first_year = 1950\n",
    "\n",
    "last_year = 2010"
   ]
  },
  {
   "cell_type": "markdown",
   "metadata": {},
   "source": [
    "### 1- MSL"
   ]
  },
  {
   "cell_type": "code",
   "execution_count": null,
   "metadata": {},
   "outputs": [],
   "source": [
    "# Define variables\n",
    "\n",
    "#Variables\n",
    "var = 'msl'  # msl, sic, sm1, sst,t2m,olr,z500,tp\n",
    "\n",
    "# Filterig\n",
    "\n",
    "months =[1,2,3,4,5,6,7,8,9,10,11,12] #[1,2,3,4,5,11,12], [1,2,3,4,5,6,7,8,9,10,11,12]\n",
    "\n",
    "coord = 'Europe'               #World, Europe, North_Atlantic, Artic, all_but_atlantic\n",
    "\n",
    "# Number of clusters\n",
    "\n",
    "numbe_of_clusters = 5\n",
    "\n",
    "# Normalize each time series\n",
    "norm = False\n",
    "seasonal_soothing = True\n",
    "\n",
    "centroids, centroids_dataframe, clusters_av_dataframe,labels = perform_clustering(var, months, coord, numbe_of_clusters, norm, seasonal_soothing, first_year,last_year, first_clima, last_clima,resolution, path_predictors, path_output)\n"
   ]
  },
  {
   "cell_type": "code",
   "execution_count": null,
   "metadata": {},
   "outputs": [],
   "source": [
    "#Variables\n",
    "var = 'msl'  # msl, sic, sm1, sst,t2m,olr,z500,tp\n",
    "\n",
    "# Filterig\n",
    "\n",
    "months =[1,2,3,4,5,6,7,8,9,10,11,12] #[1,2,3,4,5,11,12], [1,2,3,4,5,6,7,8,9,10,11,12]\n",
    "\n",
    "coord = 'World'               #World, Europe, North_Atlantic, Artic, all_but_atlantic\n",
    "\n",
    "# Number of clusters\n",
    "\n",
    "numbe_of_clusters = 5\n",
    "\n",
    "# Normalize each time series\n",
    "norm = False\n",
    "seasonal_soothing = True\n",
    "\n",
    "centroids, centroids_dataframe, clusters_av_dataframe,labels = perform_clustering(var, months, coord, numbe_of_clusters, norm, seasonal_soothing, first_year,last_year, first_clima, last_clima,resolution, path_predictors, path_output)\n"
   ]
  },
  {
   "cell_type": "markdown",
   "metadata": {},
   "source": [
    "### 2- SM"
   ]
  },
  {
   "cell_type": "code",
   "execution_count": null,
   "metadata": {},
   "outputs": [],
   "source": [
    "#Variables\n",
    "var = 'sm1'  # msl, sic, sm1, sst,t2m,olr,z500,tp\n",
    "\n",
    "# Filterig\n",
    "\n",
    "months =[1,2,3,4,5,6,7,8,9,10,11,12] #[1,2,3,4,5,11,12], [1,2,3,4,5,6,7,8,9,10,11,12]\n",
    "\n",
    "coord = 'Europe'               #World, Europe, North_Atlantic, Artic, all_but_atlantic\n",
    "\n",
    "# Number of clusters\n",
    "\n",
    "numbe_of_clusters = 5\n",
    "\n",
    "# Normalize each time series\n",
    "norm = False\n",
    "seasonal_soothing = True\n",
    "\n",
    "centroids, centroids_dataframe, clusters_av_dataframe,labels = perform_clustering(var, months, coord, numbe_of_clusters, norm, seasonal_soothing, first_year,last_year, first_clima, last_clima,resolution, path_predictors, path_output)\n"
   ]
  },
  {
   "cell_type": "markdown",
   "metadata": {},
   "source": [
    "### 3- SIC"
   ]
  },
  {
   "cell_type": "code",
   "execution_count": null,
   "metadata": {},
   "outputs": [],
   "source": [
    "#Variables\n",
    "var = 'sic'  # msl, sic, sm1, sst,t2m,olr,z500,tp\n",
    "\n",
    "# Filterig\n",
    "\n",
    "months =[1,2,3,4,5,6,7,8,9,10,11,12] #[1,2,3,4,5,11,12], [1,2,3,4,5,6,7,8,9,10,11,12]\n",
    "\n",
    "coord = 'Artic'               #World, Europe, North_Atlantic, Artic, all_but_atlantic\n",
    "\n",
    "# Number of clusters\n",
    "\n",
    "numbe_of_clusters = 5\n",
    "\n",
    "# Normalize each time series\n",
    "norm = False\n",
    "seasonal_soothing = True\n",
    "\n",
    "centroids, centroids_dataframe, clusters_av_dataframe,labels = perform_clustering(var, months, coord, numbe_of_clusters, norm, seasonal_soothing, first_year,last_year, first_clima, last_clima,resolution, path_predictors, path_output)\n"
   ]
  },
  {
   "cell_type": "markdown",
   "metadata": {},
   "source": [
    "### 4- SST"
   ]
  },
  {
   "cell_type": "code",
   "execution_count": null,
   "metadata": {},
   "outputs": [],
   "source": [
    "#Variables\n",
    "var = 'sst'  # msl, sic, sm1, sst,t2m,olr,z500,tp\n",
    "\n",
    "# Filterig\n",
    "\n",
    "months =[1,2,3,4,5,6,7,8,9,10,11,12] #[1,2,3,4,5,11,12], [1,2,3,4,5,6,7,8,9,10,11,12]\n",
    "\n",
    "coord = 'World'               #World, Europe, North_Atlantic, Artic, all_but_atlantic\n",
    "\n",
    "# Number of clusters\n",
    "\n",
    "numbe_of_clusters = 5\n",
    "\n",
    "# Normalize each time series\n",
    "norm = False\n",
    "seasonal_soothing = True\n",
    "\n",
    "centroids, centroids_dataframe, clusters_av_dataframe,labels = perform_clustering(var, months, coord, numbe_of_clusters, norm, seasonal_soothing, first_year,last_year, first_clima, last_clima,resolution, path_predictors, path_output)\n"
   ]
  },
  {
   "cell_type": "code",
   "execution_count": null,
   "metadata": {},
   "outputs": [],
   "source": [
    "#Variables\n",
    "var = 'sst'  # msl, sic, sm1, sst,t2m,olr,z500,tp\n",
    "\n",
    "# Filterig\n",
    "\n",
    "months =[1,2,3,4,5,6,7,8,9,10,11,12] #[1,2,3,4,5,11,12], [1,2,3,4,5,6,7,8,9,10,11,12]\n",
    "\n",
    "coord = 'North_Atlantic'               #World, Europe, North_Atlantic, Artic, all_but_atlantic\n",
    "\n",
    "# Number of clusters\n",
    "\n",
    "numbe_of_clusters = 5\n",
    "\n",
    "# Normalize each time series\n",
    "norm = False\n",
    "seasonal_soothing = True\n",
    "\n",
    "centroids, centroids_dataframe, clusters_av_dataframe,labels = perform_clustering(var, months, coord, numbe_of_clusters, norm, seasonal_soothing, first_year,last_year, first_clima, last_clima,resolution, path_predictors, path_output)\n"
   ]
  },
  {
   "cell_type": "markdown",
   "metadata": {},
   "source": [
    "### 5- z500"
   ]
  },
  {
   "cell_type": "code",
   "execution_count": null,
   "metadata": {},
   "outputs": [],
   "source": [
    "#Variables\n",
    "var = 'z500'  # msl, sic, sm1, sst,t2m,olr,z500,tp\n",
    "\n",
    "# Filterig\n",
    "\n",
    "months =[1,2,3,4,5,6,7,8,9,10,11,12] #[1,2,3,4,5,11,12], [1,2,3,4,5,6,7,8,9,10,11,12]\n",
    "\n",
    "coord = 'Europe'               #World, Europe, North_Atlantic, Artic, all_but_atlantic\n",
    "\n",
    "# Number of clusters\n",
    "\n",
    "numbe_of_clusters = 5\n",
    "\n",
    "# Normalize each time series\n",
    "norm = False\n",
    "seasonal_soothing = True\n",
    "\n",
    "centroids, centroids_dataframe, clusters_av_dataframe,labels = perform_clustering(var, months, coord, numbe_of_clusters, norm, seasonal_soothing, first_year,last_year, first_clima, last_clima,resolution, path_predictors, path_output)\n"
   ]
  },
  {
   "cell_type": "code",
   "execution_count": null,
   "metadata": {},
   "outputs": [],
   "source": [
    "#Variables\n",
    "var = 'z500'  # msl, sic, sm1, sst,t2m,olr,z500,tp\n",
    "\n",
    "# Filterig\n",
    "\n",
    "months =[1,2,3,4,5,6,7,8,9,10,11,12] #[1,2,3,4,5,11,12], [1,2,3,4,5,6,7,8,9,10,11,12]\n",
    "\n",
    "coord = 'World'               #World, Europe, North_Atlantic, Artic, all_but_atlantic\n",
    "\n",
    "# Number of clusters\n",
    "\n",
    "numbe_of_clusters = 5\n",
    "\n",
    "# Normalize each time series\n",
    "norm = False\n",
    "seasonal_soothing = True\n",
    "\n",
    "centroids, centroids_dataframe, clusters_av_dataframe,labels = perform_clustering(var, months, coord, numbe_of_clusters, norm, seasonal_soothing, first_year,last_year, first_clima, last_clima,resolution, path_predictors, path_output)\n"
   ]
  },
  {
   "cell_type": "markdown",
   "metadata": {},
   "source": [
    "### 6- TP"
   ]
  },
  {
   "cell_type": "code",
   "execution_count": null,
   "metadata": {},
   "outputs": [],
   "source": [
    "#Variables\n",
    "var = 'tp'  # msl, sic, sm1, sst,t2m,olr,z500,tp\n",
    "\n",
    "# Filterig\n",
    "\n",
    "months =[1,2,3,4,5,6,7,8,9,10,11,12] #[1,2,3,4,5,11,12], [1,2,3,4,5,6,7,8,9,10,11,12]\n",
    "\n",
    "coord = 'Europe'               #World, Europe, North_Atlantic, Artic, all_but_atlantic\n",
    "\n",
    "# Number of clusters\n",
    "\n",
    "numbe_of_clusters = 5\n",
    "\n",
    "# Normalize each time series\n",
    "norm = False\n",
    "seasonal_soothing = True\n",
    "\n",
    "centroids, centroids_dataframe, clusters_av_dataframe,labels = perform_clustering(var, months, coord, numbe_of_clusters, norm, seasonal_soothing, first_year,last_year, first_clima, last_clima,resolution, path_predictors, path_output)\n"
   ]
  },
  {
   "cell_type": "markdown",
   "metadata": {},
   "source": [
    "### 7- OLR"
   ]
  },
  {
   "cell_type": "code",
   "execution_count": null,
   "metadata": {},
   "outputs": [],
   "source": [
    "#Variables\n",
    "var = 'olr'  # msl, sic, sm1, sst,t2m,olr,z500,tp\n",
    "\n",
    "# Filterig\n",
    "\n",
    "months =[1,2,3,4,5,6,7,8,9,10,11,12] #[1,2,3,4,5,11,12], [1,2,3,4,5,6,7,8,9,10,11,12]\n",
    "\n",
    "coord = 'World'               #World, Europe, North_Atlantic, Artic, all_but_atlantic\n",
    "\n",
    "# Number of clusters\n",
    "\n",
    "numbe_of_clusters = 5\n",
    "\n",
    "# Normalize each time series\n",
    "norm = False\n",
    "seasonal_soothing = True\n",
    "\n",
    "centroids, centroids_dataframe, clusters_av_dataframe,labels = perform_clustering(var, months, coord, numbe_of_clusters, norm, seasonal_soothing, first_year,last_year, first_clima, last_clima,resolution, path_predictors, path_output)\n"
   ]
  },
  {
   "cell_type": "code",
   "execution_count": null,
   "metadata": {},
   "outputs": [],
   "source": [
    "#Variables\n",
    "var = 'olr'  # msl, sic, sm1, sst,t2m,olr,z500,tp\n",
    "\n",
    "# Filterig\n",
    "\n",
    "months =[1,2,3,4,5,6,7,8,9,10,11,12] #[1,2,3,4,5,11,12], [1,2,3,4,5,6,7,8,9,10,11,12]\n",
    "\n",
    "coord = 'North_Atlantic'               #World, Europe, North_Atlantic, Artic, all_but_atlantic\n",
    "\n",
    "# Number of clusters\n",
    "\n",
    "numbe_of_clusters = 5\n",
    "\n",
    "# Normalize each time series\n",
    "norm = False\n",
    "seasonal_soothing = True\n",
    "\n",
    "centroids, centroids_dataframe, clusters_av_dataframe,labels = perform_clustering(var, months, coord, numbe_of_clusters, norm, seasonal_soothing, first_year,last_year, first_clima, last_clima,resolution, path_predictors, path_output)\n"
   ]
  },
  {
   "cell_type": "markdown",
   "metadata": {},
   "source": [
    "### 8- T2M"
   ]
  },
  {
   "cell_type": "code",
   "execution_count": null,
   "metadata": {},
   "outputs": [],
   "source": [
    "#Variables\n",
    "var = 'olr'  # msl, sic, sm1, sst,t2m,olr,z500,tp\n",
    "\n",
    "# Filterig\n",
    "\n",
    "months =[1,2,3,4,5,6,7,8,9,10,11,12] #[1,2,3,4,5,11,12], [1,2,3,4,5,6,7,8,9,10,11,12]\n",
    "\n",
    "coord = 'Europe'               #World, Europe, North_Atlantic, Artic, all_but_atlantic\n",
    "\n",
    "# Number of clusters\n",
    "\n",
    "numbe_of_clusters = 5\n",
    "\n",
    "# Normalize each time series\n",
    "norm = False\n",
    "seasonal_soothing = True\n",
    "\n",
    "centroids, centroids_dataframe, clusters_av_dataframe,labels = perform_clustering(var, months, coord, numbe_of_clusters, norm, seasonal_soothing, first_year,last_year, first_clima, last_clima,resolution, path_predictors, path_output)\n"
   ]
  }
 ],
 "metadata": {
  "kernelspec": {
   "display_name": "base",
   "language": "python",
   "name": "python3"
  },
  "language_info": {
   "codemirror_mode": {
    "name": "ipython",
    "version": 3
   },
   "file_extension": ".py",
   "mimetype": "text/x-python",
   "name": "python",
   "nbconvert_exporter": "python",
   "pygments_lexer": "ipython3",
   "version": "3.9.7"
  }
 },
 "nbformat": 4,
 "nbformat_minor": 2
}
