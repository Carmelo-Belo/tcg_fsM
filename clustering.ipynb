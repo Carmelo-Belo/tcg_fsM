{
 "cells": [
  {
   "cell_type": "code",
   "execution_count": null,
   "metadata": {},
   "outputs": [],
   "source": []
  },
  {
   "cell_type": "markdown",
   "metadata": {},
   "source": [
    "# Clustering configuration\n",
    "\n"
   ]
  },
  {
   "cell_type": "code",
   "execution_count": 3,
   "metadata": {},
   "outputs": [
    {
     "ename": "ImportError",
     "evalue": "cannot import name 'perform_clustering' from 'clustering' (c:\\Users\\cesar.pelaez\\Documents\\GitHub\\spatiotemporal_FS_HW\\clustering.py)",
     "output_type": "error",
     "traceback": [
      "\u001b[1;31m---------------------------------------------------------------------------\u001b[0m",
      "\u001b[1;31mImportError\u001b[0m                               Traceback (most recent call last)",
      "Input \u001b[1;32mIn [3]\u001b[0m, in \u001b[0;36m<cell line: 1>\u001b[1;34m()\u001b[0m\n\u001b[1;32m----> 1\u001b[0m \u001b[38;5;28;01mfrom\u001b[39;00m \u001b[38;5;21;01mclustering\u001b[39;00m \u001b[38;5;28;01mimport\u001b[39;00m perform_clustering\n\u001b[0;32m      3\u001b[0m cluster_output \u001b[38;5;241m=\u001b[39m \u001b[38;5;124m'\u001b[39m\u001b[38;5;124maverages\u001b[39m\u001b[38;5;124m'\u001b[39m      \u001b[38;5;66;03m# 'centroids' or 'averages'\t\u001b[39;00m\n\u001b[0;32m      5\u001b[0m path \u001b[38;5;241m=\u001b[39m \u001b[38;5;124m'\u001b[39m\u001b[38;5;124mC:/Users/cesar.pelaez/OneDrive - Universidad de Alcala/Documentos/GitHub/ML2EE/Processed_data/Resolution_0_5\u001b[39m\u001b[38;5;124m'\u001b[39m\n",
      "\u001b[1;31mImportError\u001b[0m: cannot import name 'perform_clustering' from 'clustering' (c:\\Users\\cesar.pelaez\\Documents\\GitHub\\spatiotemporal_FS_HW\\clustering.py)"
     ]
    }
   ],
   "source": [
    "from clustering import perform_clustering\n",
    "\n",
    "cluster_output = 'averages'      # 'centroids' or 'averages'\t\n",
    "\n",
    "path = 'C:/Users/cesar.pelaez/OneDrive - Universidad de Alcala/Documentos/GitHub/ML2EE/Processed_data/Resolution_0_5'\n",
    "\n",
    "folder = 'Test'\n",
    "\n",
    "resolution = 0.5\n",
    "\n",
    "first_clima = 1980\n",
    "\n",
    "last_clima = 2010  \n",
    "\n",
    "first_year = 1950\n",
    "\n",
    "last_year = 2010"
   ]
  },
  {
   "cell_type": "code",
   "execution_count": 2,
   "metadata": {},
   "outputs": [
    {
     "ename": "NameError",
     "evalue": "name 'perform_clustering' is not defined",
     "output_type": "error",
     "traceback": [
      "\u001b[1;31m---------------------------------------------------------------------------\u001b[0m",
      "\u001b[1;31mNameError\u001b[0m                                 Traceback (most recent call last)",
      "Input \u001b[1;32mIn [2]\u001b[0m, in \u001b[0;36m<cell line: 20>\u001b[1;34m()\u001b[0m\n\u001b[0;32m     17\u001b[0m norm \u001b[38;5;241m=\u001b[39m \u001b[38;5;28;01mFalse\u001b[39;00m\n\u001b[0;32m     18\u001b[0m seasonal_soothing \u001b[38;5;241m=\u001b[39m \u001b[38;5;28;01mTrue\u001b[39;00m\n\u001b[1;32m---> 20\u001b[0m centroids, centroids_dataframe, clusters_av_dataframe,labels \u001b[38;5;241m=\u001b[39m \u001b[43mperform_clustering\u001b[49m(var, months, coord, numbe_of_clusters, norm, seasonal_soothing, first_year,last_year, first_clima, last_clima,resolution, path)\n",
      "\u001b[1;31mNameError\u001b[0m: name 'perform_clustering' is not defined"
     ]
    }
   ],
   "source": [
    "# Define variables\n",
    "\n",
    "#Variables\n",
    "var = 'msl'  # msl, sic, sm1, sst,t2m\n",
    "\n",
    "# Filterig\n",
    "\n",
    "months =[1,2,3,4,5,6,7,8,9,10,11,12] #[1,2,3,4,5,11,12], [1,2,3,4,5,6,7,8,9,10,11,12]\n",
    "\n",
    "coord = 'Europe'               #World, Europe, North_Atlantic, Artic, all_but_atlantic\n",
    "\n",
    "# Number of clusters\n",
    "\n",
    "numbe_of_clusters = 5\n",
    "\n",
    "# Normalize each time series\n",
    "norm = False\n",
    "seasonal_soothing = True\n",
    "\n",
    "centroids, centroids_dataframe, clusters_av_dataframe,labels = perform_clustering(var, months, coord, numbe_of_clusters, norm, seasonal_soothing, first_year,last_year, first_clima, last_clima,resolution, path)\n"
   ]
  }
 ],
 "metadata": {
  "kernelspec": {
   "display_name": "base",
   "language": "python",
   "name": "python3"
  },
  "language_info": {
   "codemirror_mode": {
    "name": "ipython",
    "version": 3
   },
   "file_extension": ".py",
   "mimetype": "text/x-python",
   "name": "python",
   "nbconvert_exporter": "python",
   "pygments_lexer": "ipython3",
   "version": "3.9.7"
  }
 },
 "nbformat": 4,
 "nbformat_minor": 2
}
