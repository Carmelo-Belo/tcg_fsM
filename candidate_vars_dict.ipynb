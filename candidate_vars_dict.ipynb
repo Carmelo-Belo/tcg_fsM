{
 "cells": [
  {
   "cell_type": "code",
   "execution_count": null,
   "metadata": {},
   "outputs": [],
   "source": [
    "var = 'msl'\n",
    "dataset = 'ERA5'\n",
    "vars_group = 'MSLP-SST'\n",
    "basin = 'GLB'\n",
    "level = 'sfc'"
   ]
  }
 ],
 "metadata": {
  "language_info": {
   "name": "python"
  }
 },
 "nbformat": 4,
 "nbformat_minor": 2
}
