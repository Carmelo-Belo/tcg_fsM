{
 "cells": [
  {
   "cell_type": "code",
   "execution_count": 1,
   "metadata": {},
   "outputs": [],
   "source": [
    "import os\n",
    "from build_dataset import build_dataset"
   ]
  },
  {
   "cell_type": "code",
   "execution_count": null,
   "metadata": {},
   "outputs": [],
   "source": [
    "project_dir = '/Users/huripari/Documents/PhD/TCs_Genesis'\n",
    "\n",
    "# Variables and directories to consider to build the dataset for feature selection\n",
    "cluster_variables = ['msl', 'abs_vo850', 'ssta20', 'vws850-200']\n",
    "cluster_path = os.path.join(project_dir, 'FS_TCG', 'data', f'12clusters')\n",
    "\n",
    "climate_indexes = ['EA-WR', 'ENSO3.4', 'EP-NP', 'NAO', 'PDO', 'PNA', 'SOI', 'TNA', 'TSA', 'WP']\n",
    "indexes_path = CI_dir = os.path.join(project_dir, 'data', 'CI')\n",
    "\n",
    "# Years considered for the dataset\n",
    "first_year = 1980\n",
    "last_year = 2021\n",
    "\n",
    "# Folder to save the dataset\n",
    "save_path = os.path.join(project_dir, 'FS_TCG', 'data')"
   ]
  },
  {
   "cell_type": "code",
   "execution_count": null,
   "metadata": {},
   "outputs": [],
   "source": [
    "build_dataset(cluster_variables, index_variables, cluster_path, indexes_path, first_year, last_year, save_path, month_col=False)"
   ]
  }
 ],
 "metadata": {
  "kernelspec": {
   "display_name": "base",
   "language": "python",
   "name": "python3"
  },
  "language_info": {
   "codemirror_mode": {
    "name": "ipython",
    "version": 3
   },
   "file_extension": ".py",
   "mimetype": "text/x-python",
   "name": "python",
   "nbconvert_exporter": "python",
   "pygments_lexer": "ipython3",
   "version": "3.11.8"
  }
 },
 "nbformat": 4,
 "nbformat_minor": 2
}
