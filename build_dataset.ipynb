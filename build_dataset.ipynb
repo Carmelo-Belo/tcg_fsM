{
 "cells": [
  {
   "cell_type": "markdown",
   "metadata": {},
   "source": [
    "# Build predictors dataset"
   ]
  },
  {
   "cell_type": "code",
   "execution_count": 33,
   "metadata": {},
   "outputs": [],
   "source": [
    "# Names of variables to include in the dataset\n",
    "\n",
    "local_variables = 'local_variables.csv'   # None if any local variable is to be included\n",
    "cluster_variables = 'averages'            # Averages/Centroids/None\n",
    "index_variables = ['ENSO.csv','IOD.csv','NAO.csv','data_CO2.csv']   # None if no index is to be included\n",
    "day_oy_year = True                        # True/False          \n",
    "\n",
    "\n",
    "# Path to the data files\n",
    "\n",
    "path = './Data/Paper/'\n",
    "\n",
    "first_year = 1950\n",
    "last_year = 2022"
   ]
  },
  {
   "cell_type": "code",
   "execution_count": 88,
   "metadata": {},
   "outputs": [],
   "source": [
    "def check_consecutive_repeats(df,col):\n",
    "    repeats = df.shift(1) == df\n",
    "    if repeats.sum() > 0:\n",
    "        print('Consecutive values repeated found at',col)\n",
    "        print(repeats[repeats].index)\n",
    "\n",
    "def build_dataset(local_variables, cluster_variables, index_variables, day_oy_year, path, first_year, last_year):\n",
    "    import pandas as pd\n",
    "    import numpy as np\n",
    "    import os\n",
    "\n",
    "    # Create the dataset\n",
    "\n",
    "    dataset = pd.DataFrame()\n",
    "\n",
    "    dataset.index = pd.date_range(start = str(first_year)+'-01-01', end = str(last_year)+'-12-31', freq = 'D')\n",
    "\n",
    "    # Load the cluster data\n",
    "\n",
    "    if cluster_variables != None:\n",
    "        files = os.listdir(path)\n",
    "        files = [f for f in files if f.startswith(cluster_variables)]\n",
    "        for file in files:\n",
    "            data = pd.read_csv(path+file, index_col = 0, parse_dates = True)\n",
    "            dataset = pd.concat([dataset, data], axis = 1)\n",
    "\n",
    "    # Load the local data\n",
    "    if local_variables != None:\n",
    "        data = pd.read_csv(path+local_variables, index_col = 0, parse_dates = True)\n",
    "        data.columns = ['local_'+col for col in data.columns]\n",
    "        dataset = pd.concat([dataset, data], axis = 1)\n",
    "\n",
    "    # Load the index data\n",
    "    if index_variables != None:\n",
    "        for file in index_variables:\n",
    "            data = pd.read_csv(path+file, index_col = 0, parse_dates = True)\n",
    "            dataset = pd.concat([dataset, data], axis = 1)\n",
    "    \n",
    "    # Add the day of the year\n",
    "    if day_oy_year:\n",
    "        dataset['day_of_year'] = dataset.index.dayofyear\n",
    "\n",
    "    # Check if any data is missing, repeated in consecutive days, or is above the average+7*std\n",
    "\n",
    "    for col in dataset.columns:\n",
    "        if dataset[col].isnull().sum() > 0:\n",
    "            print('Warning: Missing values in', col)\n",
    "        check_consecutive_repeats(dataset[col],col)\n",
    "        mean = dataset[col].mean()\n",
    "        std = dataset[col].std()\n",
    "        if (np.abs(dataset[col]) > mean + 7*std).sum() > 0:\n",
    "            print('Warning: Values above the average+7*std in', col)\n",
    "\n",
    "    \n",
    "\n",
    "    return dataset"
   ]
  },
  {
   "cell_type": "code",
   "execution_count": 46,
   "metadata": {},
   "outputs": [],
   "source": [
    "df = dataset['local_msl']"
   ]
  },
  {
   "cell_type": "code",
   "execution_count": 89,
   "metadata": {},
   "outputs": [
    {
     "name": "stdout",
     "output_type": "stream",
     "text": [
      "Warning: Values above the average+7*std in sicArtic_cluster1\n",
      "Warning: Values above the average+7*std in t2mEurope_cluster1\n",
      "Warning: Values above the average+7*std in t2mEurope_cluster2\n",
      "Warning: Values above the average+7*std in t2mEurope_cluster4\n",
      "Warning: Values above the average+7*std in tpEurope_cluster2\n",
      "Warning: Values above the average+7*std in tpEurope_cluster3\n",
      "Warning: Values above the average+7*std in tpEurope_cluster5\n",
      "Consecutive values repeated found at local_msl\n",
      "DatetimeIndex(['1996-07-19'], dtype='datetime64[ns]', freq='D')\n",
      "Consecutive values repeated found at local_t2m\n",
      "DatetimeIndex(['1986-12-10'], dtype='datetime64[ns]', freq='D')\n",
      "Warning: Values above the average+7*std in local_t2m\n",
      "Warning: Values above the average+7*std in local_tp\n",
      "Warning: Values above the average+7*std in Enso\n"
     ]
    }
   ],
   "source": [
    "dataset = build_dataset(local_variables, cluster_variables, index_variables, day_oy_year, path, first_year, last_year)"
   ]
  },
  {
   "cell_type": "code",
   "execution_count": 59,
   "metadata": {},
   "outputs": [],
   "source": [
    "import matplotlib.pyplot as plt"
   ]
  },
  {
   "cell_type": "code",
   "execution_count": 93,
   "metadata": {},
   "outputs": [
    {
     "data": {
      "text/plain": [
       "(5113.0, 6192.0)"
      ]
     },
     "execution_count": 93,
     "metadata": {},
     "output_type": "execute_result"
    },
    {
     "data": {
      "image/png": "[encoded data removed]",
      "text/plain": [
       "<Figure size 432x288 with 1 Axes>"
      ]
     },
     "metadata": {
      "needs_background": "light"
     },
     "output_type": "display_data"
    }
   ],
   "source": [
    "dataset['t2mEurope_cluster1'].plot()\n",
    "plt.xlim('1984-01-01','1986-12-15')"
   ]
  }
 ],
 "metadata": {
  "kernelspec": {
   "display_name": "base",
   "language": "python",
   "name": "python3"
  },
  "language_info": {
   "codemirror_mode": {
    "name": "ipython",
    "version": 3
   },
   "file_extension": ".py",
   "mimetype": "text/x-python",
   "name": "python",
   "nbconvert_exporter": "python",
   "pygments_lexer": "ipython3",
   "version": "3.9.7"
  }
 },
 "nbformat": 4,
 "nbformat_minor": 2
}
