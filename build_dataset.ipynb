{
 "cells": [
  {
   "cell_type": "markdown",
   "metadata": {},
   "source": [
    "# Build predictors dataset"
   ]
  },
  {
   "cell_type": "code",
   "execution_count": null,
   "metadata": {},
   "outputs": [],
   "source": [
    "# Names of variables to include in the dataset\n",
    "\n",
    "local_variables = 'local_variables.csv'   # None if any local variable is to be included\n",
    "cluster_variables = 'averages'            # Averages/Centroids/None\n",
    "index_variables = ['ENSO.csv','IOD.csv','NAO.csv','data_CO2.scv']   # None if no index is to be included\n",
    "day_oy_year = True                        # True/False          \n",
    "\n",
    "\n",
    "# Path to the data files\n",
    "\n",
    "path = './Data/Paper/'"
   ]
  }
 ],
 "metadata": {
  "kernelspec": {
   "display_name": "base",
   "language": "python",
   "name": "python3"
  },
  "language_info": {
   "codemirror_mode": {
    "name": "ipython",
    "version": 3
   },
   "file_extension": ".py",
   "mimetype": "text/x-python",
   "name": "python",
   "nbconvert_exporter": "python",
   "pygments_lexer": "ipython3",
   "version": "3.9.7"
  }
 },
 "nbformat": 4,
 "nbformat_minor": 2
}
