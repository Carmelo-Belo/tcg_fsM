{
 "cells": [
  {
   "cell_type": "markdown",
   "metadata": {},
   "source": [
    "# Clustering configuration\n",
    "\n"
   ]
  },
  {
   "cell_type": "code",
   "execution_count": 6,
   "metadata": {},
   "outputs": [],
   "source": [
    "\n",
    "path_predictors = 'C:/Users/CPR_/OneDrive - Universidad de Alcala/Documentos/GitHub/ML2EE/Processed_data/Resolution_0_5/'\n",
    "\n",
    "path_output = './Data/Paper/'\n",
    "\n",
    "\n",
    "first_clima = 1980\n",
    "\n",
    "last_clima = 2010  \n",
    "\n",
    "first_year_train = 1950\n",
    "\n",
    "last_year_train = 2010\n",
    "\n",
    "first_year_test = 2011\n",
    "\n",
    "last_year_test = 2022\n",
    "\n",
    "local_latitude = 45.93\n",
    "\n",
    "local_longitude = 9.22\n",
    "\n"
   ]
  },
  {
   "cell_type": "code",
   "execution_count": 7,
   "metadata": {},
   "outputs": [],
   "source": [
    "import locals_variables\n",
    "\n",
    "locals_variables.main(first_year_train=1950,\n",
    "         last_year_test=2022,\n",
    "         local_latitude=45.93,\n",
    "         local_longitude=9.22,\n",
    "         first_clima=1980,\n",
    "         last_clima=2010,\n",
    "         path_predictors=path_predictors,\n",
    "         path_output=path_output)\n"
   ]
  }
 ],
 "metadata": {
  "kernelspec": {
   "display_name": "base",
   "language": "python",
   "name": "python3"
  },
  "language_info": {
   "codemirror_mode": {
    "name": "ipython",
    "version": 3
   },
   "file_extension": ".py",
   "mimetype": "text/x-python",
   "name": "python",
   "nbconvert_exporter": "python",
   "pygments_lexer": "ipython3",
   "version": "3.9.18"
  }
 },
 "nbformat": 4,
 "nbformat_minor": 2
}
