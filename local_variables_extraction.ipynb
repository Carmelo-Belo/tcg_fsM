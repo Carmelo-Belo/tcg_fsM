{
 "cells": [
  {
   "cell_type": "markdown",
   "metadata": {},
   "source": [
    "# Clustering configuration\n",
    "\n"
   ]
  },
  {
   "cell_type": "code",
   "execution_count": 6,
   "metadata": {},
   "outputs": [],
   "source": [
    "\n",
    "path_predictors = 'C:/Users/CPR_/OneDrive - Universidad de Alcala/Documentos/GitHub/ML2EE/Processed_data/Resolution_0_5/'\n",
    "\n",
    "path_output = './Data/Paper/'\n",
    "\n",
    "\n",
    "first_clima = 1980\n",
    "\n",
    "last_clima = 2010  \n",
    "\n",
    "first_year_train = 1950\n",
    "\n",
    "last_year_train = 2010\n",
    "\n",
    "first_year_test = 2011\n",
    "\n",
    "last_year_test = 2022\n",
    "\n",
    "local_latitude = 45.93\n",
    "\n",
    "local_longitude = 9.22\n",
    "\n"
   ]
  },
  {
   "cell_type": "code",
   "execution_count": 7,
   "metadata": {},
   "outputs": [
    {
     "ename": "",
     "evalue": "",
     "output_type": "error",
     "traceback": [
      "\u001b[1;31mThe Kernel crashed while executing code in the current cell or a previous cell. \n",
      "\u001b[1;31mPlease review the code in the cell(s) to identify a possible cause of the failure. \n",
      "\u001b[1;31mClick <a href='https://aka.ms/vscodeJupyterKernelCrash'>here</a> for more info. \n",
      "\u001b[1;31mView Jupyter <a href='command:jupyter.viewOutput'>log</a> for further details."
     ]
    }
   ],
   "source": [
    "import locals_variables\n",
    "\n",
    "locals_variables.main(first_year_train=1950,\n",
    "         last_year_test=2022,\n",
    "         local_latitude=45.93,\n",
    "         local_longitude=9.22,\n",
    "         first_clima=1980,\n",
    "         last_clima=2010,\n",
<<<<<<< Updated upstream
    "         path_predictors=path_predictors,\n",
    "         path_output=path_output)\n"
=======
<<<<<<< HEAD
    "         path_predictors='./Data/Resolution_0_5/',\n",
    "         path_output='./Data/Test/')\n",
    "  "
=======
    "         path_predictors=path_predictors,\n",
    "         path_output=path_output)\n"
>>>>>>> 26dca06bccc48dcc7bfb8fcd7ed1fa8b29e882d7
>>>>>>> Stashed changes
   ]
  }
 ],
 "metadata": {
  "kernelspec": {
   "display_name": "base",
   "language": "python",
   "name": "python3"
  },
  "language_info": {
   "codemirror_mode": {
    "name": "ipython",
    "version": 3
   },
   "file_extension": ".py",
   "mimetype": "text/x-python",
   "name": "python",
   "nbconvert_exporter": "python",
   "pygments_lexer": "ipython3",
   "version": "3.9.18"
  }
 },
 "nbformat": 4,
 "nbformat_minor": 2
}
