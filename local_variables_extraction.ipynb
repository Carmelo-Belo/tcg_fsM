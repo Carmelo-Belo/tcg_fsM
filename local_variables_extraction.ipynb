{
 "cells": [
  {
   "cell_type": "markdown",
   "metadata": {},
   "source": [
    "# Extraction of local variables\n",
    "\n"
   ]
  },
  {
   "cell_type": "code",
   "execution_count": null,
   "metadata": {},
   "outputs": [
    {
     "ename": "",
     "evalue": "",
     "output_type": "error",
     "traceback": [
      "\u001b[1;31mThe Kernel crashed while executing code in the current cell or a previous cell. \n",
      "\u001b[1;31mPlease review the code in the cell(s) to identify a possible cause of the failure. \n",
      "\u001b[1;31mClick <a href='https://aka.ms/vscodeJupyterKernelCrash'>here</a> for more info. \n",
      "\u001b[1;31mView Jupyter <a href='command:jupyter.viewOutput'>log</a> for further details."
     ]
    }
   ],
   "source": [
    "import locals_variables\n",
    "\n",
    "locals_variables.main(first_year_train=1950,     #Filenames of train and test files should be set in local_variables.py according to the downloaded data\n",
    "            last_year_train=2010,\n",
    "            first_year_test=2011,\n",
    "         last_year=2022,\n",
    "         local_latitude=45.93,\n",
    "         local_longitude=9.22,\n",
    "         first_clima=1980,\n",
    "         last_clima=2010,\n",
    "         path_predictors='./Data/Resolution_0_5/',\n",
    "         path_output='./Data/Test/')\n"
   ]
  }
 ],
 "metadata": {
  "kernelspec": {
   "display_name": "base",
   "language": "python",
   "name": "python3"
  },
  "language_info": {
   "codemirror_mode": {
    "name": "ipython",
    "version": 3
   },
   "file_extension": ".py",
   "mimetype": "text/x-python",
   "name": "python",
   "nbconvert_exporter": "python",
   "pygments_lexer": "ipython3",
   "version": "3.9.7"
  }
 },
 "nbformat": 4,
 "nbformat_minor": 2
}
