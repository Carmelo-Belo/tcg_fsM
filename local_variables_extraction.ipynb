{
 "cells": [
  {
   "cell_type": "markdown",
   "metadata": {},
   "source": [
    "# Extract local variables\n",
    "\n"
   ]
  },
  {
   "cell_type": "code",
   "execution_count": 1,
   "metadata": {},
   "outputs": [
    {
     "name": "stderr",
     "output_type": "stream",
     "text": [
      "C:\\Users\\CPR_\\AppData\\Roaming\\Python\\Python39\\site-packages\\xarray\\backends\\plugins.py:80: RuntimeWarning: Engine 'cfgrib' loading failed:\n",
      "Cannot find the ecCodes library\n",
      "  warnings.warn(f\"Engine {name!r} loading failed:\\n{ex}\", RuntimeWarning)\n"
     ]
    }
   ],
   "source": [
    "import locals_variables\n",
    "\n",
    "locals_variables.main(first_year_train=1950,\n",
    "         last_year_train=2010,\n",
    "         first_year_test=2011,\n",
    "         last_year_test=2022,\n",
    "         local_latitude=45.93,\n",
    "         local_longitude=9.22,\n",
    "         first_clima=1980,\n",
    "         last_clima=2010,\n",
    "         path_predictors='C:/Users/CPR_/OneDrive - Universidad de Alcala/Documentos/GitHub/ML2EE/Processed_data/Resolution_0_5/',\n",
    "         path_output='./Data/Paper/')\n"
   ]
  }
 ],
 "metadata": {
  "kernelspec": {
   "display_name": "base",
   "language": "python",
   "name": "python3"
  },
  "language_info": {
   "codemirror_mode": {
    "name": "ipython",
    "version": 3
   },
   "file_extension": ".py",
   "mimetype": "text/x-python",
   "name": "python",
   "nbconvert_exporter": "python",
   "pygments_lexer": "ipython3",
   "version": "3.9.18"
  }
 },
 "nbformat": 4,
 "nbformat_minor": 2
}
