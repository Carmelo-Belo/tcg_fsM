{
 "cells": [
  {
   "cell_type": "code",
   "execution_count": 6,
   "metadata": {},
   "outputs": [],
   "source": [
    "import os \n",
    "import xarray as xr\n",
    "import numpy as np\n",
    "import glob\n",
    "import pandas as pd\n",
    "from sklearn.cluster import KMeans, AgglomerativeClustering\n",
    "from scipy.cluster.hierarchy import dendrogram, linkage\n",
    "from sklearn.metrics import silhouette_score\n",
    "from sklearn.preprocessing import StandardScaler, normalize\n",
    "import itertools\n",
    "from numpy.lib.stride_tricks import sliding_window_view\n",
    "import datetime\n",
    "from matplotlib import pyplot as plt\n",
    "import cartopy.crs as ccrs\n",
    "import cartopy.feature as cfeature\n",
    "import matplotlib.ticker as mticker\n",
    "from cartopy.mpl.ticker import (LongitudeFormatter, LatitudeFormatter)\n"
   ]
  },
  {
   "cell_type": "code",
   "execution_count": 7,
   "metadata": {},
   "outputs": [],
   "source": [
    "project_dir = '/Users/huripari/Documents/PhD/TCs_Genesis'\n",
    "fs_dir = os.path.join(project_dir, 'FS_TCG')\n",
    "data_dir = os.path.join(fs_dir, 'data')\n",
    "\n",
    "# Define the paths to the predictors and target data\n",
    "predictor_file = 'predictors_1980-2021_12clusters_4vars_10idxs.csv'\n",
    "predictors_path = os.path.join(data_dir, predictor_file)\n",
    "target_file = 'target_1980-2021_2.5x2.5.csv'\n",
    "target_path = os.path.join(data_dir, target_file)\n",
    "experiment_filename = predictor_file[-37:]\n",
    "\n",
    "# Define last year of training data\n",
    "train_yearF = 2013\n",
    "\n",
    "# Define the kind of ML model to use\n",
    "model_kind = 'LogReg'"
   ]
  },
  {
   "cell_type": "code",
   "execution_count": 8,
   "metadata": {},
   "outputs": [],
   "source": [
    "# Load the dataset and target\n",
    "predictors_df = pd.read_csv(predictors_path, index_col=0)\n",
    "predictors_df.index = pd.to_datetime(predictors_df.index)\n",
    "target_df = pd.read_csv(target_path, index_col=0)\n",
    "target_df.index = pd.to_datetime(target_df.index)\n",
    "\n",
    "# Split the dataset into training and testing\n",
    "train_indices = predictors_df.index.year <= train_yearF\n",
    "test_indices = predictors_df.index.year > train_yearF"
   ]
  },
  {
   "cell_type": "code",
   "execution_count": 9,
   "metadata": {},
   "outputs": [],
   "source": [
    "# Create a directory and file to save the solution of feature selection\n",
    "outuput_dir = os.path.join(fs_dir, 'results', 'test')\n",
    "os.makedirs(outuput_dir, exist_ok=True)\n",
    "solution_filename = 'CRO_' + model_kind + '_' + experiment_filename\n",
    "indiv_path = os.path.join(outuput_dir, experiment_filename)"
   ]
  },
  {
   "cell_type": "code",
   "execution_count": 10,
   "metadata": {},
   "outputs": [
    {
     "name": "stdout",
     "output_type": "stream",
     "text": [
      "174\n"
     ]
    }
   ],
   "source": [
    "sol_data = pd.DataFrame(columns=['CV','Test','Sol'])\n",
    "solution = 3 * predictors_df.shape[1]\n",
    "print(solution)"
   ]
  },
  {
   "cell_type": "code",
   "execution_count": 19,
   "metadata": {},
   "outputs": [],
   "source": [
    "solution = 3 * predictors_df.shape[1]"
   ]
  },
  {
   "cell_type": "code",
   "execution_count": 185,
   "metadata": {},
   "outputs": [
    {
     "ename": "TypeError",
     "evalue": "'int' object is not subscriptable",
     "output_type": "error",
     "traceback": [
      "\u001b[0;31m---------------------------------------------------------------------------\u001b[0m",
      "\u001b[0;31mTypeError\u001b[0m                                 Traceback (most recent call last)",
      "Cell \u001b[0;32mIn[185], line 2\u001b[0m\n\u001b[1;32m      1\u001b[0m \u001b[38;5;66;03m# Read solution\u001b[39;00m\n\u001b[0;32m----> 2\u001b[0m time_sequences \u001b[38;5;241m=\u001b[39m np\u001b[38;5;241m.\u001b[39mappend(np\u001b[38;5;241m.\u001b[39marray(\u001b[43msolution\u001b[49m\u001b[43m[\u001b[49m\u001b[43m:\u001b[49m\u001b[43mpredictors_df\u001b[49m\u001b[38;5;241;43m.\u001b[39;49m\u001b[43mshape\u001b[49m\u001b[43m[\u001b[49m\u001b[38;5;241;43m1\u001b[39;49m\u001b[43m]\u001b[49m\u001b[43m]\u001b[49m)\u001b[38;5;241m.\u001b[39mastype(\u001b[38;5;28mint\u001b[39m), \u001b[38;5;241m1\u001b[39m)\n\u001b[1;32m      3\u001b[0m \u001b[38;5;28mprint\u001b[39m(time_sequences)\n",
      "\u001b[0;31mTypeError\u001b[0m: 'int' object is not subscriptable"
     ]
    }
   ],
   "source": [
    "dataset_opt = target_df.copy()\n",
    "for c, col in enumerate(predictors_df.columns):"
   ]
  },
  {
   "cell_type": "code",
   "execution_count": 26,
   "metadata": {},
   "outputs": [],
   "source": [
    "# __init__\n",
    "sup_lim = np.append(np.append(np.repeat(60, predictors_df.shape[1]), np.repeat(180, predictors_df.shape[1])), np.repeat(1, predictors_df.shape[1]))\n",
    "inf_lim = np.append(np.append(np.repeat(1, predictors_df.shape[1]), np.repeat(0, predictors_df.shape[1])), np.repeat(0, predictors_df.shape[1]))"
   ]
  },
  {
   "cell_type": "code",
   "execution_count": 27,
   "metadata": {},
   "outputs": [
    {
     "data": {
      "text/plain": [
       "array([ 60,  60,  60,  60,  60,  60,  60,  60,  60,  60,  60,  60,  60,\n",
       "        60,  60,  60,  60,  60,  60,  60,  60,  60,  60,  60,  60,  60,\n",
       "        60,  60,  60,  60,  60,  60,  60,  60,  60,  60,  60,  60,  60,\n",
       "        60,  60,  60,  60,  60,  60,  60,  60,  60,  60,  60,  60,  60,\n",
       "        60,  60,  60,  60,  60,  60, 180, 180, 180, 180, 180, 180, 180,\n",
       "       180, 180, 180, 180, 180, 180, 180, 180, 180, 180, 180, 180, 180,\n",
       "       180, 180, 180, 180, 180, 180, 180, 180, 180, 180, 180, 180, 180,\n",
       "       180, 180, 180, 180, 180, 180, 180, 180, 180, 180, 180, 180, 180,\n",
       "       180, 180, 180, 180, 180, 180, 180, 180, 180, 180, 180, 180,   1,\n",
       "         1,   1,   1,   1,   1,   1,   1,   1,   1,   1,   1,   1,   1,\n",
       "         1,   1,   1,   1,   1,   1,   1,   1,   1,   1,   1,   1,   1,\n",
       "         1,   1,   1,   1,   1,   1,   1,   1,   1,   1,   1,   1,   1,\n",
       "         1,   1,   1,   1,   1,   1,   1,   1,   1,   1,   1,   1,   1,\n",
       "         1,   1,   1,   1,   1])"
      ]
     },
     "execution_count": 27,
     "metadata": {},
     "output_type": "execute_result"
    }
   ],
   "source": [
    "sup_lim"
   ]
  },
  {
   "cell_type": "code",
   "execution_count": null,
   "metadata": {},
   "outputs": [],
   "source": []
  }
 ],
 "metadata": {
  "kernelspec": {
   "display_name": "base",
   "language": "python",
   "name": "python3"
  },
  "language_info": {
   "codemirror_mode": {
    "name": "ipython",
    "version": 3
   },
   "file_extension": ".py",
   "mimetype": "text/x-python",
   "name": "python",
   "nbconvert_exporter": "python",
   "pygments_lexer": "ipython3",
   "version": "3.11.8"
  }
 },
 "nbformat": 4,
 "nbformat_minor": 2
}
